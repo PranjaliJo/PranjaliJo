{
  "nbformat": 4,
  "nbformat_minor": 0,
  "metadata": {
    "colab": {
      "provenance": [],
      "authorship_tag": "ABX9TyPKlAvhLkuQVMyRTb5hWRGN",
      "include_colab_link": true
    },
    "kernelspec": {
      "name": "python3",
      "display_name": "Python 3"
    },
    "language_info": {
      "name": "python"
    }
  },
  "cells": [
    {
      "cell_type": "markdown",
      "metadata": {
        "id": "view-in-github",
        "colab_type": "text"
      },
      "source": [
        "<a href=\"https://colab.research.google.com/github/PranjaliJo/PranjaliJo/blob/main/BasicsofPython_ipynb.ipynb\" target=\"_parent\"><img src=\"https://colab.research.google.com/assets/colab-badge.svg\" alt=\"Open In Colab\"/></a>"
      ]
    },
    {
      "cell_type": "markdown",
      "source": [
        "**Importing Libraries**"
      ],
      "metadata": {
        "id": "ycJJ5eCKK_Ww"
      }
    },
    {
      "cell_type": "code",
      "execution_count": null,
      "metadata": {
        "id": "Pr1-50fHK9Un"
      },
      "outputs": [],
      "source": [
        "import pandas as pd\n",
        "import numpy as np"
      ]
    },
    {
      "cell_type": "markdown",
      "source": [
        "**Series Creation**"
      ],
      "metadata": {
        "id": "aTKs-wQ5LVoe"
      }
    },
    {
      "cell_type": "code",
      "source": [
        "# Create a Pandas Series\n",
        "mood_series = pd.Series(['😄', '😢', '😡', '😎', '🥳'],\n",
        "                        index=['Happy', 'Sad', 'Angry', 'Cool', 'Celebrating'])\n",
        "# Display the Series\n",
        "print(mood_series)\n",
        "\n",
        "\n",
        "# Data from a list\n",
        "data = [100, 200, 300, 400, 500]\n",
        "# Create a Pandas Series with custom index\n",
        "series_with_custom_index = pd.Series(data, index=['A', 'B', 'C', 'D', 'E'])\n",
        "print(series_with_custom_index)\n",
        "\n",
        "# Creating Series from a dictionary\n",
        "data_dict = {'X': 1000, 'Y': 2000, 'Z': 3000}\n",
        "series_from_dict = pd.Series(data_dict)\n",
        "print(series_from_dict)"
      ],
      "metadata": {
        "colab": {
          "base_uri": "https://localhost:8080/"
        },
        "id": "urOm4ik-LFjn",
        "outputId": "56545f80-db85-4813-ec69-80b7955cc36f"
      },
      "execution_count": null,
      "outputs": [
        {
          "output_type": "stream",
          "name": "stdout",
          "text": [
            "Happy          😄\n",
            "Sad            😢\n",
            "Angry          😡\n",
            "Cool           😎\n",
            "Celebrating    🥳\n",
            "dtype: object\n",
            "A    100\n",
            "B    200\n",
            "C    300\n",
            "D    400\n",
            "E    500\n",
            "dtype: int64\n",
            "X    1000\n",
            "Y    2000\n",
            "Z    3000\n",
            "dtype: int64\n"
          ]
        }
      ]
    },
    {
      "cell_type": "markdown",
      "source": [
        "**Series as Specialized Dictionary**"
      ],
      "metadata": {
        "id": "DYy3BYVhOANW"
      }
    },
    {
      "cell_type": "code",
      "source": [
        "# Creating a Series\n",
        "animal_sounds = pd.Series({\n",
        "    'Dog': 'Woof',\n",
        "    'Cat': 'Meow',\n",
        "    'Cow': 'Moo',\n",
        "    'Duck': 'Quack',\n",
        "    'Sheep': 'Baa'\n",
        "})\n",
        "# Display the Series\n",
        "print(animal_sounds)\n",
        "# Accessing an animal's sound like in a dictionary\n",
        "print(f\"The sound of a Cat is: {animal_sounds['Cat']}\")\n",
        "# Adding a new animal and its sound\n",
        "animal_sounds['Elephant'] = 'Trumpet'\n",
        "print(animal_sounds)\n",
        "# Checking if an animal is in the Series\n",
        "if 'Dog' in animal_sounds:\n",
        "    print(\"Dog is in the list of animals!\")\n",
        "# Iterate through the Series\n",
        "for animal, sound in animal_sounds.items():\n",
        "    print(f\"A {animal} goes '{sound}'\")"
      ],
      "metadata": {
        "colab": {
          "base_uri": "https://localhost:8080/"
        },
        "id": "HxRS4JUAN5m3",
        "outputId": "e4c0d9be-daba-437e-d43b-68ccff9906dd"
      },
      "execution_count": null,
      "outputs": [
        {
          "output_type": "stream",
          "name": "stdout",
          "text": [
            "Dog       Woof\n",
            "Cat       Meow\n",
            "Cow        Moo\n",
            "Duck     Quack\n",
            "Sheep      Baa\n",
            "dtype: object\n",
            "The sound of a Cat is: Meow\n",
            "Dog            Woof\n",
            "Cat            Meow\n",
            "Cow             Moo\n",
            "Duck          Quack\n",
            "Sheep           Baa\n",
            "Elephant    Trumpet\n",
            "dtype: object\n",
            "Dog is in the list of animals!\n",
            "A Dog goes 'Woof'\n",
            "A Cat goes 'Meow'\n",
            "A Cow goes 'Moo'\n",
            "A Duck goes 'Quack'\n",
            "A Sheep goes 'Baa'\n",
            "A Elephant goes 'Trumpet'\n"
          ]
        }
      ]
    },
    {
      "cell_type": "markdown",
      "source": [
        "**Pandas Dataframe Creation**"
      ],
      "metadata": {
        "id": "bf3RWLvSO_Bm"
      }
    },
    {
      "cell_type": "code",
      "source": [
        "# Creating a DataFrame\n",
        "data = {\n",
        "    'Space Object': ['Earth', 'Mars', 'Jupiter', 'Saturn', 'Neptune', 'Pluto'],\n",
        "    'Type': ['Planet', 'Planet', 'Planet', 'Planet', 'Planet', 'Dwarf Planet'],\n",
        "    'Moons': [1, 2, 79, 82, 14, 5],\n",
        "    'Orbit (Days)': [365, 687, 4333, 10759, 60200, 90560]\n",
        "}\n",
        "\n",
        "space_df = pd.DataFrame(data)\n",
        "\n",
        "# Display the DataFrame\n",
        "print(space_df)\n",
        "\n",
        "# Filtering planets with more than 10 moons\n",
        "many_moons_df = space_df[space_df['Moons'] > 10]\n",
        "print(\"\\nPlanets with more than 10 moons:\")\n",
        "print(many_moons_df)\n",
        "\n",
        "# Adding a new space object to the DataFrame\n",
        "new_object = {'Space Object': 'Venus', 'Type': 'Planet', 'Moons': 0, 'Orbit (Days)': 225}\n",
        "# Use pd.concat in place of append\n",
        "# Convert new_object to a DataFrame and use ignore_index\n",
        "space_df = pd.concat([space_df, pd.DataFrame([new_object])], ignore_index=True)\n",
        "print(\"\\nAfter adding Venus:\")\n",
        "print(space_df)\n",
        "\n",
        "# Sorting space objects by number of moons\n",
        "sorted_space_df = space_df.sort_values(by='Moons', ascending=False)\n",
        "print(\"\\nSpace objects sorted by number of moons:\")\n",
        "print(sorted_space_df)\n",
        "\n",
        "# Grouping by type of space object (planet or dwarf planet)\n",
        "grouped_by_type = space_df.groupby('Type').apply(lambda x: list(x['Space Object']))\n",
        "print(\"\\nSpace objects grouped by type:\")\n",
        "print(grouped_by_type)\n",
        "\n",
        "# Iterating through the DataFrame to print space object descriptions\n",
        "print(\"\\nSpace Object Descriptions:\")\n",
        "for index, row in space_df.iterrows():\n",
        "    print(f\"{row['Space Object']} is a {row['Type']} with {row['Moons']} moon(s) and orbits the sun in {row['Orbit (Days)']} days.\")"
      ],
      "metadata": {
        "colab": {
          "base_uri": "https://localhost:8080/"
        },
        "id": "VR3G9yYpON5t",
        "outputId": "353c53b0-5547-40b8-bfdd-0cbf7a83a499"
      },
      "execution_count": null,
      "outputs": [
        {
          "output_type": "stream",
          "name": "stdout",
          "text": [
            "  Space Object          Type  Moons  Orbit (Days)\n",
            "0        Earth        Planet      1           365\n",
            "1         Mars        Planet      2           687\n",
            "2      Jupiter        Planet     79          4333\n",
            "3       Saturn        Planet     82         10759\n",
            "4      Neptune        Planet     14         60200\n",
            "5        Pluto  Dwarf Planet      5         90560\n",
            "\n",
            "Planets with more than 10 moons:\n",
            "  Space Object    Type  Moons  Orbit (Days)\n",
            "2      Jupiter  Planet     79          4333\n",
            "3       Saturn  Planet     82         10759\n",
            "4      Neptune  Planet     14         60200\n",
            "\n",
            "After adding Venus:\n",
            "  Space Object          Type  Moons  Orbit (Days)\n",
            "0        Earth        Planet      1           365\n",
            "1         Mars        Planet      2           687\n",
            "2      Jupiter        Planet     79          4333\n",
            "3       Saturn        Planet     82         10759\n",
            "4      Neptune        Planet     14         60200\n",
            "5        Pluto  Dwarf Planet      5         90560\n",
            "6        Venus        Planet      0           225\n",
            "\n",
            "Space objects sorted by number of moons:\n",
            "  Space Object          Type  Moons  Orbit (Days)\n",
            "3       Saturn        Planet     82         10759\n",
            "2      Jupiter        Planet     79          4333\n",
            "4      Neptune        Planet     14         60200\n",
            "5        Pluto  Dwarf Planet      5         90560\n",
            "1         Mars        Planet      2           687\n",
            "0        Earth        Planet      1           365\n",
            "6        Venus        Planet      0           225\n",
            "\n",
            "Space objects grouped by type:\n",
            "Type\n",
            "Dwarf Planet                                           [Pluto]\n",
            "Planet          [Earth, Mars, Jupiter, Saturn, Neptune, Venus]\n",
            "dtype: object\n",
            "\n",
            "Space Object Descriptions:\n",
            "Earth is a Planet with 1 moon(s) and orbits the sun in 365 days.\n",
            "Mars is a Planet with 2 moon(s) and orbits the sun in 687 days.\n",
            "Jupiter is a Planet with 79 moon(s) and orbits the sun in 4333 days.\n",
            "Saturn is a Planet with 82 moon(s) and orbits the sun in 10759 days.\n",
            "Neptune is a Planet with 14 moon(s) and orbits the sun in 60200 days.\n",
            "Pluto is a Dwarf Planet with 5 moon(s) and orbits the sun in 90560 days.\n",
            "Venus is a Planet with 0 moon(s) and orbits the sun in 225 days.\n"
          ]
        }
      ]
    },
    {
      "cell_type": "markdown",
      "source": [
        "**Reading Data from CSV**"
      ],
      "metadata": {
        "id": "HNJiiwz0Y3Jw"
      }
    },
    {
      "cell_type": "code",
      "source": [
        "df = pd.read_csv('/content/Housing (3).csv')\n",
        "print(df)"
      ],
      "metadata": {
        "colab": {
          "base_uri": "https://localhost:8080/"
        },
        "id": "W-93x5SBYE58",
        "outputId": "6fa5956c-14dc-4e46-8bb6-97857c56184f"
      },
      "execution_count": null,
      "outputs": [
        {
          "output_type": "stream",
          "name": "stdout",
          "text": [
            "        price  area  bedrooms  bathrooms  stories mainroad guestroom basement  \\\n",
            "0    13300000  7420         4          2        3      yes        no       no   \n",
            "1    12250000  8960         4          4        4      yes        no       no   \n",
            "2    12250000  9960         3          2        2      yes        no      yes   \n",
            "3    12215000  7500         4          2        2      yes        no      yes   \n",
            "4    11410000  7420         4          1        2      yes       yes      yes   \n",
            "..        ...   ...       ...        ...      ...      ...       ...      ...   \n",
            "540   1820000  3000         2          1        1      yes        no      yes   \n",
            "541   1767150  2400         3          1        1       no        no       no   \n",
            "542   1750000  3620         2          1        1      yes        no       no   \n",
            "543   1750000  2910         3          1        1       no        no       no   \n",
            "544   1750000  3850         3          1        2      yes        no       no   \n",
            "\n",
            "    hotwaterheating airconditioning  parking prefarea furnishingstatus  \n",
            "0                no             yes        2      yes        furnished  \n",
            "1                no             yes        3       no        furnished  \n",
            "2                no              no        2      yes   semi-furnished  \n",
            "3                no             yes        3      yes        furnished  \n",
            "4                no             yes        2       no        furnished  \n",
            "..              ...             ...      ...      ...              ...  \n",
            "540              no              no        2       no      unfurnished  \n",
            "541              no              no        0       no   semi-furnished  \n",
            "542              no              no        0       no      unfurnished  \n",
            "543              no              no        0       no        furnished  \n",
            "544              no              no        0       no      unfurnished  \n",
            "\n",
            "[545 rows x 13 columns]\n"
          ]
        }
      ]
    },
    {
      "cell_type": "markdown",
      "source": [
        "**Filtering Data**"
      ],
      "metadata": {
        "id": "3oUNpsMsaNw2"
      }
    },
    {
      "cell_type": "code",
      "source": [
        "filtered_data_price = housing_df[housing_df['price'] > 5000000]\n",
        "print(\"Houses with price greater than 5,000,000:\")\n",
        "print(filtered_data_price)"
      ],
      "metadata": {
        "colab": {
          "base_uri": "https://localhost:8080/"
        },
        "id": "KSArQTbeaNgN",
        "outputId": "760fea5e-b3e8-4909-ac24-40a8efea85ce"
      },
      "execution_count": null,
      "outputs": [
        {
          "output_type": "stream",
          "name": "stdout",
          "text": [
            "Houses with price greater than 5,000,000:\n",
            "        price   area  bedrooms  bathrooms  stories mainroad guestroom  \\\n",
            "0    13300000   7420         4          2        3      yes        no   \n",
            "1    12250000   8960         4          4        4      yes        no   \n",
            "2    12250000   9960         3          2        2      yes        no   \n",
            "3    12215000   7500         4          2        2      yes        no   \n",
            "4    11410000   7420         4          1        2      yes       yes   \n",
            "..        ...    ...       ...        ...      ...      ...       ...   \n",
            "190   5040000   7600         4          1        2      yes        no   \n",
            "191   5040000  10700         3          1        2      yes       yes   \n",
            "192   5040000   6600         3          1        1      yes       yes   \n",
            "193   5033000   4800         2          1        1      yes       yes   \n",
            "194   5005000   8150         3          2        1      yes       yes   \n",
            "\n",
            "    basement hotwaterheating airconditioning  parking prefarea  \\\n",
            "0         no              no             yes        2      yes   \n",
            "1         no              no             yes        3       no   \n",
            "2        yes              no              no        2      yes   \n",
            "3        yes              no             yes        3      yes   \n",
            "4        yes              no             yes        2       no   \n",
            "..       ...             ...             ...      ...      ...   \n",
            "190       no              no             yes        2       no   \n",
            "191      yes              no              no        0       no   \n",
            "192      yes              no              no        0      yes   \n",
            "193      yes              no              no        0       no   \n",
            "194      yes              no              no        0       no   \n",
            "\n",
            "    furnishingstatus  \n",
            "0          furnished  \n",
            "1          furnished  \n",
            "2     semi-furnished  \n",
            "3          furnished  \n",
            "4          furnished  \n",
            "..               ...  \n",
            "190        furnished  \n",
            "191   semi-furnished  \n",
            "192        furnished  \n",
            "193   semi-furnished  \n",
            "194   semi-furnished  \n",
            "\n",
            "[195 rows x 13 columns]\n"
          ]
        }
      ]
    },
    {
      "cell_type": "markdown",
      "source": [
        "**Adding and Dropping Columns**"
      ],
      "metadata": {
        "id": "MhrR1uJKa3dd"
      }
    },
    {
      "cell_type": "code",
      "source": [
        "# Adding a new column 'price_per_sqft'\n",
        "housing_df['price_per_sqft'] = housing_df['price'] / housing_df['area']\n",
        "\n",
        "# Display the updated DataFrame\n",
        "print(housing_df.head())\n",
        "\n",
        "# Temporarily drop the 'stories' column\n",
        "housing_df_temp = housing_df.drop('stories', axis=1)\n",
        "\n",
        "# Display the DataFrame without the 'stories' column\n",
        "print(housing_df_temp.head())\n"
      ],
      "metadata": {
        "colab": {
          "base_uri": "https://localhost:8080/"
        },
        "id": "k5gWx1Pla8ax",
        "outputId": "d3741d38-146a-4ba8-f329-b36a26a18202"
      },
      "execution_count": null,
      "outputs": [
        {
          "output_type": "stream",
          "name": "stdout",
          "text": [
            "      price  area  bedrooms  bathrooms  stories mainroad guestroom basement  \\\n",
            "0  13300000  7420         4          2        3      yes        no       no   \n",
            "1  12250000  8960         4          4        4      yes        no       no   \n",
            "2  12250000  9960         3          2        2      yes        no      yes   \n",
            "3  12215000  7500         4          2        2      yes        no      yes   \n",
            "4  11410000  7420         4          1        2      yes       yes      yes   \n",
            "\n",
            "  hotwaterheating airconditioning  parking prefarea furnishingstatus  \\\n",
            "0              no             yes        2      yes        furnished   \n",
            "1              no             yes        3       no        furnished   \n",
            "2              no              no        2      yes   semi-furnished   \n",
            "3              no             yes        3      yes        furnished   \n",
            "4              no             yes        2       no        furnished   \n",
            "\n",
            "   price_per_sqft  \n",
            "0     1792.452830  \n",
            "1     1367.187500  \n",
            "2     1229.919679  \n",
            "3     1628.666667  \n",
            "4     1537.735849  \n",
            "      price  area  bedrooms  bathrooms mainroad guestroom basement  \\\n",
            "0  13300000  7420         4          2      yes        no       no   \n",
            "1  12250000  8960         4          4      yes        no       no   \n",
            "2  12250000  9960         3          2      yes        no      yes   \n",
            "3  12215000  7500         4          2      yes        no      yes   \n",
            "4  11410000  7420         4          1      yes       yes      yes   \n",
            "\n",
            "  hotwaterheating airconditioning  parking prefarea furnishingstatus  \\\n",
            "0              no             yes        2      yes        furnished   \n",
            "1              no             yes        3       no        furnished   \n",
            "2              no              no        2      yes   semi-furnished   \n",
            "3              no             yes        3      yes        furnished   \n",
            "4              no             yes        2       no        furnished   \n",
            "\n",
            "   price_per_sqft  \n",
            "0     1792.452830  \n",
            "1     1367.187500  \n",
            "2     1229.919679  \n",
            "3     1628.666667  \n",
            "4     1537.735849  \n"
          ]
        }
      ]
    },
    {
      "cell_type": "markdown",
      "source": [
        "**Indexing and Slicing**"
      ],
      "metadata": {
        "id": "-86bpYNAb4Qz"
      }
    },
    {
      "cell_type": "code",
      "source": [
        "# Accessing the first 5 rows of the dataset using iloc\n",
        "sliced_data = housing_df.iloc[:5]\n",
        "print(sliced_data)\n",
        "\n",
        "# Accessing specific columns ('price' and 'area') for the first 5 rows using loc\n",
        "sliced_data_loc = housing_df.loc[:5, ['price', 'area']]\n",
        "print(sliced_data_loc)\n"
      ],
      "metadata": {
        "colab": {
          "base_uri": "https://localhost:8080/"
        },
        "id": "jHWZQmlJbaAg",
        "outputId": "4901efe8-aa13-43af-bccd-1b62c48ac9fd"
      },
      "execution_count": null,
      "outputs": [
        {
          "output_type": "stream",
          "name": "stdout",
          "text": [
            "      price  area  bedrooms  bathrooms  stories mainroad guestroom basement  \\\n",
            "0  13300000  7420         4          2        3      yes        no       no   \n",
            "1  12250000  8960         4          4        4      yes        no       no   \n",
            "2  12250000  9960         3          2        2      yes        no      yes   \n",
            "3  12215000  7500         4          2        2      yes        no      yes   \n",
            "4  11410000  7420         4          1        2      yes       yes      yes   \n",
            "\n",
            "  hotwaterheating airconditioning  parking prefarea furnishingstatus  \\\n",
            "0              no             yes        2      yes        furnished   \n",
            "1              no             yes        3       no        furnished   \n",
            "2              no              no        2      yes   semi-furnished   \n",
            "3              no             yes        3      yes        furnished   \n",
            "4              no             yes        2       no        furnished   \n",
            "\n",
            "   price_per_sqft  \n",
            "0     1792.452830  \n",
            "1     1367.187500  \n",
            "2     1229.919679  \n",
            "3     1628.666667  \n",
            "4     1537.735849  \n",
            "      price  area\n",
            "0  13300000  7420\n",
            "1  12250000  8960\n",
            "2  12250000  9960\n",
            "3  12215000  7500\n",
            "4  11410000  7420\n",
            "5  10850000  7500\n"
          ]
        }
      ]
    },
    {
      "cell_type": "markdown",
      "source": [
        "**Handling Missing Data**"
      ],
      "metadata": {
        "id": "7uxInAtbc5o6"
      }
    },
    {
      "cell_type": "code",
      "source": [
        "# Check for missing data in the dataset\n",
        "print(housing_df.isnull().sum())"
      ],
      "metadata": {
        "colab": {
          "base_uri": "https://localhost:8080/"
        },
        "id": "NKfsPtfAc796",
        "outputId": "54517db6-0a85-41cc-d0dd-a998153735eb"
      },
      "execution_count": null,
      "outputs": [
        {
          "output_type": "stream",
          "name": "stdout",
          "text": [
            "price               0\n",
            "area                0\n",
            "bedrooms            0\n",
            "bathrooms           0\n",
            "stories             0\n",
            "mainroad            0\n",
            "guestroom           0\n",
            "basement            0\n",
            "hotwaterheating     0\n",
            "airconditioning     0\n",
            "parking             0\n",
            "prefarea            0\n",
            "furnishingstatus    0\n",
            "price_per_sqft      0\n",
            "dtype: int64\n"
          ]
        }
      ]
    },
    {
      "cell_type": "code",
      "source": [
        "# Drop rows with missing data\n",
        "housing_df_cleaned = housing_df.dropna()\n",
        "\n",
        "# Display the cleaned dataset\n",
        "print(housing_df_cleaned)"
      ],
      "metadata": {
        "colab": {
          "base_uri": "https://localhost:8080/"
        },
        "id": "JX7Mz6rBdBUE",
        "outputId": "365eca24-f7ab-49db-f46a-500c21b9c9ab"
      },
      "execution_count": null,
      "outputs": [
        {
          "output_type": "stream",
          "name": "stdout",
          "text": [
            "        price  area  bedrooms  bathrooms  stories mainroad guestroom basement  \\\n",
            "0    13300000  7420         4          2        3      yes        no       no   \n",
            "1    12250000  8960         4          4        4      yes        no       no   \n",
            "2    12250000  9960         3          2        2      yes        no      yes   \n",
            "3    12215000  7500         4          2        2      yes        no      yes   \n",
            "4    11410000  7420         4          1        2      yes       yes      yes   \n",
            "..        ...   ...       ...        ...      ...      ...       ...      ...   \n",
            "540   1820000  3000         2          1        1      yes        no      yes   \n",
            "541   1767150  2400         3          1        1       no        no       no   \n",
            "542   1750000  3620         2          1        1      yes        no       no   \n",
            "543   1750000  2910         3          1        1       no        no       no   \n",
            "544   1750000  3850         3          1        2      yes        no       no   \n",
            "\n",
            "    hotwaterheating airconditioning  parking prefarea furnishingstatus  \\\n",
            "0                no             yes        2      yes        furnished   \n",
            "1                no             yes        3       no        furnished   \n",
            "2                no              no        2      yes   semi-furnished   \n",
            "3                no             yes        3      yes        furnished   \n",
            "4                no             yes        2       no        furnished   \n",
            "..              ...             ...      ...      ...              ...   \n",
            "540              no              no        2       no      unfurnished   \n",
            "541              no              no        0       no   semi-furnished   \n",
            "542              no              no        0       no      unfurnished   \n",
            "543              no              no        0       no        furnished   \n",
            "544              no              no        0       no      unfurnished   \n",
            "\n",
            "     price_per_sqft  \n",
            "0       1792.452830  \n",
            "1       1367.187500  \n",
            "2       1229.919679  \n",
            "3       1628.666667  \n",
            "4       1537.735849  \n",
            "..              ...  \n",
            "540      606.666667  \n",
            "541      736.312500  \n",
            "542      483.425414  \n",
            "543      601.374570  \n",
            "544      454.545455  \n",
            "\n",
            "[545 rows x 14 columns]\n"
          ]
        }
      ]
    },
    {
      "cell_type": "code",
      "source": [
        "# Fill missing values with 0\n",
        "housing_df_filled = housing_df.fillna(0)\n",
        "\n",
        "# Display the filled dataset\n",
        "print(housing_df_filled)"
      ],
      "metadata": {
        "colab": {
          "base_uri": "https://localhost:8080/"
        },
        "id": "4Rx3o88FdD_E",
        "outputId": "cc613ea5-2ab6-4a53-ccfd-52affc31aba4"
      },
      "execution_count": null,
      "outputs": [
        {
          "output_type": "stream",
          "name": "stdout",
          "text": [
            "        price  area  bedrooms  bathrooms  stories mainroad guestroom basement  \\\n",
            "0    13300000  7420         4          2        3      yes        no       no   \n",
            "1    12250000  8960         4          4        4      yes        no       no   \n",
            "2    12250000  9960         3          2        2      yes        no      yes   \n",
            "3    12215000  7500         4          2        2      yes        no      yes   \n",
            "4    11410000  7420         4          1        2      yes       yes      yes   \n",
            "..        ...   ...       ...        ...      ...      ...       ...      ...   \n",
            "540   1820000  3000         2          1        1      yes        no      yes   \n",
            "541   1767150  2400         3          1        1       no        no       no   \n",
            "542   1750000  3620         2          1        1      yes        no       no   \n",
            "543   1750000  2910         3          1        1       no        no       no   \n",
            "544   1750000  3850         3          1        2      yes        no       no   \n",
            "\n",
            "    hotwaterheating airconditioning  parking prefarea furnishingstatus  \\\n",
            "0                no             yes        2      yes        furnished   \n",
            "1                no             yes        3       no        furnished   \n",
            "2                no              no        2      yes   semi-furnished   \n",
            "3                no             yes        3      yes        furnished   \n",
            "4                no             yes        2       no        furnished   \n",
            "..              ...             ...      ...      ...              ...   \n",
            "540              no              no        2       no      unfurnished   \n",
            "541              no              no        0       no   semi-furnished   \n",
            "542              no              no        0       no      unfurnished   \n",
            "543              no              no        0       no        furnished   \n",
            "544              no              no        0       no      unfurnished   \n",
            "\n",
            "     price_per_sqft  \n",
            "0       1792.452830  \n",
            "1       1367.187500  \n",
            "2       1229.919679  \n",
            "3       1628.666667  \n",
            "4       1537.735849  \n",
            "..              ...  \n",
            "540      606.666667  \n",
            "541      736.312500  \n",
            "542      483.425414  \n",
            "543      601.374570  \n",
            "544      454.545455  \n",
            "\n",
            "[545 rows x 14 columns]\n"
          ]
        }
      ]
    },
    {
      "cell_type": "markdown",
      "source": [
        "**GroupBy and Aggregation**"
      ],
      "metadata": {
        "id": "mFFunnVbdIpG"
      }
    },
    {
      "cell_type": "code",
      "source": [
        "# Group by 'bedrooms' and calculate the average price\n",
        "grouped_by_bedrooms = housing_df.groupby('bedrooms')['price'].mean()\n",
        "\n",
        "# Display the grouped data\n",
        "print(grouped_by_bedrooms)"
      ],
      "metadata": {
        "colab": {
          "base_uri": "https://localhost:8080/"
        },
        "id": "58bWRRtCdGw3",
        "outputId": "6e8d6d55-fa16-4c2c-e2ac-4b0eccdcc07a"
      },
      "execution_count": null,
      "outputs": [
        {
          "output_type": "stream",
          "name": "stdout",
          "text": [
            "bedrooms\n",
            "1    2.712500e+06\n",
            "2    3.632022e+06\n",
            "3    4.954598e+06\n",
            "4    5.729758e+06\n",
            "5    5.819800e+06\n",
            "6    4.791500e+06\n",
            "Name: price, dtype: float64\n"
          ]
        }
      ]
    },
    {
      "cell_type": "markdown",
      "source": [
        "**Merging and Joining**"
      ],
      "metadata": {
        "id": "r7Db7VGKdOkU"
      }
    },
    {
      "cell_type": "code",
      "source": [
        "# Create another DataFrame with 'area' and 'city'\n",
        "city_data = pd.DataFrame({\n",
        "    'area': [7420, 8960, 9960, 7500, 2400],\n",
        "    'city': ['CityA', 'CityB', 'CityC', 'CityD', 'CityE']\n",
        "})\n",
        "\n",
        "# Merge housing_df with city_data on 'area'\n",
        "merged_data = pd.merge(housing_df, city_data, on='area')\n",
        "\n",
        "# Display the merged DataFrame\n",
        "print(merged_data)"
      ],
      "metadata": {
        "colab": {
          "base_uri": "https://localhost:8080/"
        },
        "id": "-FsfkogMdMva",
        "outputId": "207b0da7-5a59-4515-b1e4-ffe06d53e4b5"
      },
      "execution_count": null,
      "outputs": [
        {
          "output_type": "stream",
          "name": "stdout",
          "text": [
            "      price  area  bedrooms  bathrooms  stories mainroad guestroom basement  \\\n",
            "0  13300000  7420         4          2        3      yes        no       no   \n",
            "1  11410000  7420         4          1        2      yes       yes      yes   \n",
            "2  12250000  8960         4          4        4      yes        no       no   \n",
            "3  12250000  9960         3          2        2      yes        no      yes   \n",
            "4  12215000  7500         4          2        2      yes        no      yes   \n",
            "5  10850000  7500         3          3        1      yes        no      yes   \n",
            "6   2100000  2400         3          1        2      yes        no       no   \n",
            "7   1767150  2400         3          1        1       no        no       no   \n",
            "\n",
            "  hotwaterheating airconditioning  parking prefarea furnishingstatus  \\\n",
            "0              no             yes        2      yes        furnished   \n",
            "1              no             yes        2       no        furnished   \n",
            "2              no             yes        3       no        furnished   \n",
            "3              no              no        2      yes   semi-furnished   \n",
            "4              no             yes        3      yes        furnished   \n",
            "5              no             yes        2      yes   semi-furnished   \n",
            "6              no              no        0       no      unfurnished   \n",
            "7              no              no        0       no   semi-furnished   \n",
            "\n",
            "   price_per_sqft   city  \n",
            "0     1792.452830  CityA  \n",
            "1     1537.735849  CityA  \n",
            "2     1367.187500  CityB  \n",
            "3     1229.919679  CityC  \n",
            "4     1628.666667  CityD  \n",
            "5     1446.666667  CityD  \n",
            "6      875.000000  CityE  \n",
            "7      736.312500  CityE  \n"
          ]
        }
      ]
    },
    {
      "cell_type": "markdown",
      "source": [
        "**Concatenation and Appending**"
      ],
      "metadata": {
        "id": "6bmYb1DDdWQ0"
      }
    },
    {
      "cell_type": "code",
      "source": [
        "# Concatenate two DataFrames vertically\n",
        "concatenated_data = pd.concat([housing_df, housing_df], axis=0)\n",
        "\n",
        "# Display the concatenated data\n",
        "print(concatenated_data)"
      ],
      "metadata": {
        "colab": {
          "base_uri": "https://localhost:8080/"
        },
        "id": "_T4S8aV6dUii",
        "outputId": "d8d14663-6425-4492-c6a9-53b32afb9a87"
      },
      "execution_count": null,
      "outputs": [
        {
          "output_type": "stream",
          "name": "stdout",
          "text": [
            "        price  area  bedrooms  bathrooms  stories mainroad guestroom basement  \\\n",
            "0    13300000  7420         4          2        3      yes        no       no   \n",
            "1    12250000  8960         4          4        4      yes        no       no   \n",
            "2    12250000  9960         3          2        2      yes        no      yes   \n",
            "3    12215000  7500         4          2        2      yes        no      yes   \n",
            "4    11410000  7420         4          1        2      yes       yes      yes   \n",
            "..        ...   ...       ...        ...      ...      ...       ...      ...   \n",
            "540   1820000  3000         2          1        1      yes        no      yes   \n",
            "541   1767150  2400         3          1        1       no        no       no   \n",
            "542   1750000  3620         2          1        1      yes        no       no   \n",
            "543   1750000  2910         3          1        1       no        no       no   \n",
            "544   1750000  3850         3          1        2      yes        no       no   \n",
            "\n",
            "    hotwaterheating airconditioning  parking prefarea furnishingstatus  \\\n",
            "0                no             yes        2      yes        furnished   \n",
            "1                no             yes        3       no        furnished   \n",
            "2                no              no        2      yes   semi-furnished   \n",
            "3                no             yes        3      yes        furnished   \n",
            "4                no             yes        2       no        furnished   \n",
            "..              ...             ...      ...      ...              ...   \n",
            "540              no              no        2       no      unfurnished   \n",
            "541              no              no        0       no   semi-furnished   \n",
            "542              no              no        0       no      unfurnished   \n",
            "543              no              no        0       no        furnished   \n",
            "544              no              no        0       no      unfurnished   \n",
            "\n",
            "     price_per_sqft  \n",
            "0       1792.452830  \n",
            "1       1367.187500  \n",
            "2       1229.919679  \n",
            "3       1628.666667  \n",
            "4       1537.735849  \n",
            "..              ...  \n",
            "540      606.666667  \n",
            "541      736.312500  \n",
            "542      483.425414  \n",
            "543      601.374570  \n",
            "544      454.545455  \n",
            "\n",
            "[1090 rows x 14 columns]\n"
          ]
        }
      ]
    },
    {
      "cell_type": "markdown",
      "source": [
        "**Operations on DataFrames**"
      ],
      "metadata": {
        "id": "O9AJ206odmcA"
      }
    },
    {
      "cell_type": "code",
      "source": [
        "# Sort the DataFrame by 'price' in descending order\n",
        "sorted_data = housing_df.sort_values(by='price', ascending=False)\n",
        "\n",
        "# Display the sorted DataFrame\n",
        "print(sorted_data)"
      ],
      "metadata": {
        "colab": {
          "base_uri": "https://localhost:8080/"
        },
        "id": "2oI-ZRMydjq5",
        "outputId": "810eb839-818e-49e3-8dab-9f9cd748b41f"
      },
      "execution_count": null,
      "outputs": [
        {
          "output_type": "stream",
          "name": "stdout",
          "text": [
            "        price  area  bedrooms  bathrooms  stories mainroad guestroom basement  \\\n",
            "0    13300000  7420         4          2        3      yes        no       no   \n",
            "2    12250000  9960         3          2        2      yes        no      yes   \n",
            "1    12250000  8960         4          4        4      yes        no       no   \n",
            "3    12215000  7500         4          2        2      yes        no      yes   \n",
            "4    11410000  7420         4          1        2      yes       yes      yes   \n",
            "..        ...   ...       ...        ...      ...      ...       ...      ...   \n",
            "540   1820000  3000         2          1        1      yes        no      yes   \n",
            "541   1767150  2400         3          1        1       no        no       no   \n",
            "542   1750000  3620         2          1        1      yes        no       no   \n",
            "543   1750000  2910         3          1        1       no        no       no   \n",
            "544   1750000  3850         3          1        2      yes        no       no   \n",
            "\n",
            "    hotwaterheating airconditioning  parking prefarea furnishingstatus  \\\n",
            "0                no             yes        2      yes        furnished   \n",
            "2                no              no        2      yes   semi-furnished   \n",
            "1                no             yes        3       no        furnished   \n",
            "3                no             yes        3      yes        furnished   \n",
            "4                no             yes        2       no        furnished   \n",
            "..              ...             ...      ...      ...              ...   \n",
            "540              no              no        2       no      unfurnished   \n",
            "541              no              no        0       no   semi-furnished   \n",
            "542              no              no        0       no      unfurnished   \n",
            "543              no              no        0       no        furnished   \n",
            "544              no              no        0       no      unfurnished   \n",
            "\n",
            "     price_per_sqft  \n",
            "0       1792.452830  \n",
            "2       1229.919679  \n",
            "1       1367.187500  \n",
            "3       1628.666667  \n",
            "4       1537.735849  \n",
            "..              ...  \n",
            "540      606.666667  \n",
            "541      736.312500  \n",
            "542      483.425414  \n",
            "543      601.374570  \n",
            "544      454.545455  \n",
            "\n",
            "[545 rows x 14 columns]\n"
          ]
        }
      ]
    },
    {
      "cell_type": "code",
      "source": [
        "# Apply a lambda function to create a new column indicating if the price is high\n",
        "housing_df['price_category'] = housing_df['price'].apply(lambda x: 'High' if x > 5000000 else 'Low')\n",
        "\n",
        "# Display the updated DataFrame with the new column\n",
        "print(housing_df[['price', 'price_category']])"
      ],
      "metadata": {
        "colab": {
          "base_uri": "https://localhost:8080/"
        },
        "id": "vYuYczmOdp43",
        "outputId": "fe5f0ae1-b6af-46b1-e2b4-1841351f9da5"
      },
      "execution_count": null,
      "outputs": [
        {
          "output_type": "stream",
          "name": "stdout",
          "text": [
            "        price price_category\n",
            "0    13300000           High\n",
            "1    12250000           High\n",
            "2    12250000           High\n",
            "3    12215000           High\n",
            "4    11410000           High\n",
            "..        ...            ...\n",
            "540   1820000            Low\n",
            "541   1767150            Low\n",
            "542   1750000            Low\n",
            "543   1750000            Low\n",
            "544   1750000            Low\n",
            "\n",
            "[545 rows x 2 columns]\n"
          ]
        }
      ]
    },
    {
      "cell_type": "code",
      "source": [
        "# Find unique values in the 'bedrooms' column\n",
        "unique_bedrooms = housing_df['bedrooms'].unique()\n",
        "print(\"Unique values in 'bedrooms':\", unique_bedrooms)"
      ],
      "metadata": {
        "colab": {
          "base_uri": "https://localhost:8080/"
        },
        "id": "AJqiuxfKds7H",
        "outputId": "e2ce65ac-6449-4e7c-9344-d9dabf2abf0f"
      },
      "execution_count": null,
      "outputs": [
        {
          "output_type": "stream",
          "name": "stdout",
          "text": [
            "Unique values in 'bedrooms': [4 3 5 2 6 1]\n"
          ]
        }
      ]
    },
    {
      "cell_type": "markdown",
      "source": [
        "**Data visualization**"
      ],
      "metadata": {
        "id": "_G2npxteeGmu"
      }
    },
    {
      "cell_type": "code",
      "source": [
        "import seaborn as sns\n",
        "import matplotlib.pyplot as plt\n",
        "\n",
        "# Set the style for Seaborn\n",
        "sns.set(style=\"whitegrid\")\n",
        "\n",
        "# Create a figure for price distribution\n",
        "plt.figure(figsize=(10, 6))\n",
        "sns.histplot(housing_df['price'], bins=20, color='skyblue', kde=True)\n",
        "plt.title('Distribution of House Prices 🏠', fontsize=16)\n",
        "plt.xlabel('Price', fontsize=12)\n",
        "plt.ylabel('Number of Houses', fontsize=12)\n",
        "plt.show()"
      ],
      "metadata": {
        "colab": {
          "base_uri": "https://localhost:8080/",
          "height": 630
        },
        "id": "zFSIFX7nd70E",
        "outputId": "13c088e5-5d75-4975-ba28-07ae4f3ba5a9"
      },
      "execution_count": null,
      "outputs": [
        {
          "output_type": "stream",
          "name": "stderr",
          "text": [
            "/usr/local/lib/python3.10/dist-packages/IPython/core/pylabtools.py:151: UserWarning: Glyph 127968 (\\N{HOUSE BUILDING}) missing from current font.\n",
            "  fig.canvas.print_figure(bytes_io, **kw)\n"
          ]
        },
        {
          "output_type": "display_data",
          "data": {
            "text/plain": [
              "<Figure size 1000x600 with 1 Axes>"
            ],
            "image/png": "[encoded data removed]"
          },
          "metadata": {}
        }
      ]
    },
    {
      "cell_type": "code",
      "source": [
        "plt.figure(figsize=(10, 6))\n",
        "sns.scatterplot(x='area', y='price', data=housing_df, hue='furnishingstatus', palette='viridis')\n",
        "plt.title('Price vs. Area 🌍', fontsize=16)\n",
        "plt.xlabel('Area (sq ft)', fontsize=12)\n",
        "plt.ylabel('Price', fontsize=12)\n",
        "plt.legend(title='Furnishing Status')\n",
        "plt.show()"
      ],
      "metadata": {
        "colab": {
          "base_uri": "https://localhost:8080/",
          "height": 630
        },
        "id": "cHT0kgvOeeul",
        "outputId": "e4b60878-2038-47b1-e819-912d866160f9"
      },
      "execution_count": null,
      "outputs": [
        {
          "output_type": "stream",
          "name": "stderr",
          "text": [
            "/usr/local/lib/python3.10/dist-packages/IPython/core/pylabtools.py:151: UserWarning: Glyph 127757 (\\N{EARTH GLOBE EUROPE-AFRICA}) missing from current font.\n",
            "  fig.canvas.print_figure(bytes_io, **kw)\n"
          ]
        },
        {
          "output_type": "display_data",
          "data": {
            "text/plain": [
              "<Figure size 1000x600 with 1 Axes>"
            ],
            "image/png": "[encoded data removed]"
          },
          "metadata": {}
        }
      ]
    }
  ]
}